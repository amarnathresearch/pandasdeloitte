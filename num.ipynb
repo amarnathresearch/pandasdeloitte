{
 "cells": [
  {
   "cell_type": "code",
   "execution_count": 3,
   "id": "1f8ecb49",
   "metadata": {},
   "outputs": [],
   "source": [
    "import numpy as np"
   ]
  },
  {
   "cell_type": "code",
   "execution_count": 4,
   "id": "015a4d61",
   "metadata": {},
   "outputs": [],
   "source": [
    "li = np.array([10, 20, 30, 40])"
   ]
  },
  {
   "cell_type": "code",
   "execution_count": 5,
   "id": "e3754f98",
   "metadata": {},
   "outputs": [
    {
     "data": {
      "text/plain": [
       "array([10, 20, 30, 40])"
      ]
     },
     "execution_count": 5,
     "metadata": {},
     "output_type": "execute_result"
    }
   ],
   "source": [
    "li"
   ]
  },
  {
   "cell_type": "code",
   "execution_count": 6,
   "id": "56187e01",
   "metadata": {},
   "outputs": [],
   "source": [
    "li = np.array([10, 20, 'amar', 40])"
   ]
  },
  {
   "cell_type": "code",
   "execution_count": 7,
   "id": "8a5d063d",
   "metadata": {},
   "outputs": [
    {
     "name": "stdout",
     "output_type": "stream",
     "text": [
      "['10' '20' 'amar' '40']\n"
     ]
    }
   ],
   "source": [
    "print(li)"
   ]
  },
  {
   "cell_type": "code",
   "execution_count": 8,
   "id": "3a224d86",
   "metadata": {},
   "outputs": [
    {
     "data": {
      "text/plain": [
       "4"
      ]
     },
     "execution_count": 8,
     "metadata": {},
     "output_type": "execute_result"
    }
   ],
   "source": [
    "len(li)"
   ]
  },
  {
   "cell_type": "code",
   "execution_count": 9,
   "id": "1da9ca5f",
   "metadata": {},
   "outputs": [
    {
     "data": {
      "text/plain": [
       "numpy.ndarray"
      ]
     },
     "execution_count": 9,
     "metadata": {},
     "output_type": "execute_result"
    }
   ],
   "source": [
    "type(li)"
   ]
  },
  {
   "cell_type": "code",
   "execution_count": 10,
   "id": "766f2ffe",
   "metadata": {},
   "outputs": [],
   "source": [
    "li = np.array((10, 20, 'amar', 40))"
   ]
  },
  {
   "cell_type": "code",
   "execution_count": 11,
   "id": "57e5f63e",
   "metadata": {},
   "outputs": [
    {
     "name": "stdout",
     "output_type": "stream",
     "text": [
      "['10' '20' 'amar' '40']\n"
     ]
    }
   ],
   "source": [
    "print(li)"
   ]
  },
  {
   "cell_type": "code",
   "execution_count": 12,
   "id": "1e9b1642",
   "metadata": {},
   "outputs": [],
   "source": [
    "li = np.array({10, 20, 'amar', 40})"
   ]
  },
  {
   "cell_type": "code",
   "execution_count": 13,
   "id": "61c02648",
   "metadata": {},
   "outputs": [
    {
     "name": "stdout",
     "output_type": "stream",
     "text": [
      "{40, 10, 20, 'amar'}\n"
     ]
    }
   ],
   "source": [
    "print(li)"
   ]
  },
  {
   "cell_type": "code",
   "execution_count": 14,
   "id": "d9717d6f",
   "metadata": {},
   "outputs": [],
   "source": [
    "val =np.array(10)"
   ]
  },
  {
   "cell_type": "code",
   "execution_count": 15,
   "id": "8137f401",
   "metadata": {},
   "outputs": [
    {
     "data": {
      "text/plain": [
       "array(10)"
      ]
     },
     "execution_count": 15,
     "metadata": {},
     "output_type": "execute_result"
    }
   ],
   "source": [
    "val"
   ]
  },
  {
   "cell_type": "code",
   "execution_count": 16,
   "id": "ed01042f",
   "metadata": {},
   "outputs": [],
   "source": [
    "arr = np.array([10,20,30])"
   ]
  },
  {
   "cell_type": "code",
   "execution_count": 17,
   "id": "b738bc1d",
   "metadata": {},
   "outputs": [
    {
     "name": "stdout",
     "output_type": "stream",
     "text": [
      "[10 20 30]\n"
     ]
    }
   ],
   "source": [
    "print(arr)"
   ]
  },
  {
   "cell_type": "code",
   "execution_count": 19,
   "id": "1f7aeed8",
   "metadata": {},
   "outputs": [],
   "source": [
    "arr2 = np.array([[10,20, 30], [40,50, 60]])"
   ]
  },
  {
   "cell_type": "code",
   "execution_count": 20,
   "id": "5d803ae4",
   "metadata": {},
   "outputs": [
    {
     "data": {
      "text/plain": [
       "array([[10, 20, 30],\n",
       "       [40, 50, 60]])"
      ]
     },
     "execution_count": 20,
     "metadata": {},
     "output_type": "execute_result"
    }
   ],
   "source": [
    "arr2"
   ]
  },
  {
   "cell_type": "code",
   "execution_count": null,
   "id": "d1584ff4",
   "metadata": {},
   "outputs": [],
   "source": [
    "arr2 = np.array([[10,20, 30], [40,50, 60]],[[4,5, 30], [40,50, 60]])"
   ]
  }
 ],
 "metadata": {
  "kernelspec": {
   "display_name": "Python 3 (ipykernel)",
   "language": "python",
   "name": "python3"
  },
  "language_info": {
   "codemirror_mode": {
    "name": "ipython",
    "version": 3
   },
   "file_extension": ".py",
   "mimetype": "text/x-python",
   "name": "python",
   "nbconvert_exporter": "python",
   "pygments_lexer": "ipython3",
   "version": "3.9.10"
  }
 },
 "nbformat": 4,
 "nbformat_minor": 5
}
